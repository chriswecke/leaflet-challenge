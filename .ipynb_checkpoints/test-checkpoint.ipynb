{
 "metadata": {
  "language_info": {
   "codemirror_mode": {
    "name": "ipython",
    "version": 3
   },
   "file_extension": ".py",
   "mimetype": "text/x-python",
   "name": "python",
   "nbconvert_exporter": "python",
   "pygments_lexer": "ipython3",
   "version": 3
  },
  "orig_nbformat": 2
 },
 "nbformat": 4,
 "nbformat_minor": 2,
 "cells": [
  {
   "cell_type": "code",
   "execution_count": null,
   "metadata": {},
   "outputs": [],
   "source": [
    "API_KEY = \"pk.eyJ1IjoiY2hyaXN3ZWNrZSIsImEiOiJja2hwamdic2cwMTVzMnduejhqOGh1ZWZvIn0.t8u_63P6Jk7Ne48SICJoLg\"\n",
    "\n",
    "url = \"https://earthquake.usgs.gov/earthquakes/feed/v1.0/summary/significant_month.geojson\""
   ]
  }
 ]
}